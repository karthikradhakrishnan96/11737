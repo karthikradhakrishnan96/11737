{
  "nbformat": 4,
  "nbformat_minor": 0,
  "metadata": {
    "colab": {
      "name": "MNLP-Alignment.ipynb",
      "provenance": [],
      "collapsed_sections": []
    },
    "kernelspec": {
      "name": "python3",
      "display_name": "Python 3"
    },
    "accelerator": "GPU"
  },
  "cells": [
    {
      "cell_type": "code",
      "metadata": {
        "colab": {
          "base_uri": "https://localhost:8080/"
        },
        "id": "z3U4OzWC6OU3",
        "outputId": "5005172b-88f6-4e09-91ad-35ac5c994524"
      },
      "source": [
        "!sudo apt-get install libgoogle-perftools-dev libsparsehash-dev"
      ],
      "execution_count": null,
      "outputs": [
        {
          "output_type": "stream",
          "text": [
            "Reading package lists... Done\n",
            "Building dependency tree       \n",
            "Reading state information... Done\n",
            "The following additional packages will be installed:\n",
            "  libunwind-dev\n",
            "The following NEW packages will be installed:\n",
            "  libgoogle-perftools-dev libsparsehash-dev libunwind-dev\n",
            "0 upgraded, 3 newly installed, 0 to remove and 14 not upgraded.\n",
            "Need to get 699 kB of archives.\n",
            "After this operation, 7,374 kB of additional disk space will be used.\n",
            "Get:1 http://archive.ubuntu.com/ubuntu bionic/main amd64 libunwind-dev amd64 1.2.1-8 [423 kB]\n",
            "Get:2 http://archive.ubuntu.com/ubuntu bionic/main amd64 libgoogle-perftools-dev amd64 2.5-2.2ubuntu3 [204 kB]\n",
            "Get:3 http://archive.ubuntu.com/ubuntu bionic/universe amd64 libsparsehash-dev all 2.0.2-1 [72.4 kB]\n",
            "Fetched 699 kB in 0s (6,052 kB/s)\n",
            "debconf: unable to initialize frontend: Dialog\n",
            "debconf: (No usable dialog-like program is installed, so the dialog based frontend cannot be used. at /usr/share/perl5/Debconf/FrontEnd/Dialog.pm line 76, <> line 3.)\n",
            "debconf: falling back to frontend: Readline\n",
            "debconf: unable to initialize frontend: Readline\n",
            "debconf: (This frontend requires a controlling tty.)\n",
            "debconf: falling back to frontend: Teletype\n",
            "dpkg-preconfigure: unable to re-open stdin: \n",
            "Selecting previously unselected package libunwind-dev:amd64.\n",
            "(Reading database ... 144865 files and directories currently installed.)\n",
            "Preparing to unpack .../libunwind-dev_1.2.1-8_amd64.deb ...\n",
            "Unpacking libunwind-dev:amd64 (1.2.1-8) ...\n",
            "Selecting previously unselected package libgoogle-perftools-dev.\n",
            "Preparing to unpack .../libgoogle-perftools-dev_2.5-2.2ubuntu3_amd64.deb ...\n",
            "Unpacking libgoogle-perftools-dev (2.5-2.2ubuntu3) ...\n",
            "Selecting previously unselected package libsparsehash-dev.\n",
            "Preparing to unpack .../libsparsehash-dev_2.0.2-1_all.deb ...\n",
            "Unpacking libsparsehash-dev (2.0.2-1) ...\n",
            "Setting up libsparsehash-dev (2.0.2-1) ...\n",
            "Setting up libunwind-dev:amd64 (1.2.1-8) ...\n",
            "Setting up libgoogle-perftools-dev (2.5-2.2ubuntu3) ...\n",
            "Processing triggers for man-db (2.8.3-2ubuntu0.1) ...\n"
          ],
          "name": "stdout"
        }
      ]
    },
    {
      "cell_type": "code",
      "metadata": {
        "colab": {
          "base_uri": "https://localhost:8080/"
        },
        "id": "v2IgA5t-6WEo",
        "outputId": "9a2e087c-d18b-44d0-c48d-cd4e702c9501"
      },
      "source": [
        "!git clone https://github.com/clab/fast_align.git"
      ],
      "execution_count": null,
      "outputs": [
        {
          "output_type": "stream",
          "text": [
            "Cloning into 'fast_align'...\n",
            "remote: Enumerating objects: 9, done.\u001b[K\n",
            "remote: Counting objects: 100% (9/9), done.\u001b[K\n",
            "remote: Compressing objects: 100% (7/7), done.\u001b[K\n",
            "remote: Total 213 (delta 2), reused 4 (delta 2), pack-reused 204\n",
            "Receiving objects: 100% (213/213), 70.68 KiB | 851.00 KiB/s, done.\n",
            "Resolving deltas: 100% (110/110), done.\n"
          ],
          "name": "stdout"
        }
      ]
    },
    {
      "cell_type": "code",
      "metadata": {
        "colab": {
          "base_uri": "https://localhost:8080/"
        },
        "id": "QXU3EaJ86b80",
        "outputId": "5a579ac9-2c6c-4ff7-9efe-11f84eaac601"
      },
      "source": [
        "% cd fast_align"
      ],
      "execution_count": null,
      "outputs": [
        {
          "output_type": "stream",
          "text": [
            "/content/fast_align\n"
          ],
          "name": "stdout"
        }
      ]
    },
    {
      "cell_type": "code",
      "metadata": {
        "colab": {
          "base_uri": "https://localhost:8080/"
        },
        "id": "KWSCw80M6iea",
        "outputId": "fe66568a-3c16-4c99-a233-11e530e1910b"
      },
      "source": [
        "!pwd\n",
        "!mkdir -p build\n",
        "!cd build && cmake ..\n",
        "!cd build && make"
      ],
      "execution_count": null,
      "outputs": [
        {
          "output_type": "stream",
          "text": [
            "/content/fast_align\n",
            "-- The C compiler identification is GNU 7.5.0\n",
            "-- The CXX compiler identification is GNU 7.5.0\n",
            "-- Check for working C compiler: /usr/bin/cc\n",
            "-- Check for working C compiler: /usr/bin/cc -- works\n",
            "-- Detecting C compiler ABI info\n",
            "-- Detecting C compiler ABI info - done\n",
            "-- Detecting C compile features\n",
            "-- Detecting C compile features - done\n",
            "-- Check for working CXX compiler: /usr/bin/c++\n",
            "-- Check for working CXX compiler: /usr/bin/c++ -- works\n",
            "-- Detecting CXX compiler ABI info\n",
            "-- Detecting CXX compiler ABI info - done\n",
            "-- Detecting CXX compile features\n",
            "-- Detecting CXX compile features - done\n",
            "-- Found SparseHash: /usr/include  \n",
            "-- Configuring done\n",
            "-- Generating done\n",
            "-- Build files have been written to: /content/fast_align/build\n",
            "\u001b[35m\u001b[1mScanning dependencies of target atools\u001b[0m\n",
            "[ 16%] \u001b[32mBuilding CXX object CMakeFiles/atools.dir/src/alignment_io.cc.o\u001b[0m\n",
            "[ 33%] \u001b[32mBuilding CXX object CMakeFiles/atools.dir/src/atools.cc.o\u001b[0m\n",
            "[ 50%] \u001b[32m\u001b[1mLinking CXX executable atools\u001b[0m\n",
            "[ 50%] Built target atools\n",
            "\u001b[35m\u001b[1mScanning dependencies of target fast_align\u001b[0m\n",
            "[ 66%] \u001b[32mBuilding CXX object CMakeFiles/fast_align.dir/src/fast_align.cc.o\u001b[0m\n",
            "[ 83%] \u001b[32mBuilding CXX object CMakeFiles/fast_align.dir/src/ttables.cc.o\u001b[0m\n",
            "[100%] \u001b[32m\u001b[1mLinking CXX executable fast_align\u001b[0m\n",
            "[100%] Built target fast_align\n"
          ],
          "name": "stdout"
        }
      ]
    },
    {
      "cell_type": "code",
      "metadata": {
        "id": "RS-71E9p6lM9"
      },
      "source": [
        "!cd .. && awk '{getline x<\"corpus.bcn.train.ta\"; print $0 \" ||| \" x}' corpus.bcn.train.en > correct_format.txt"
      ],
      "execution_count": null,
      "outputs": []
    },
    {
      "cell_type": "code",
      "metadata": {
        "id": "7jTNXQiA7vfy"
      },
      "source": [
        "!cd .. && head -n10 correct_format.txt"
      ],
      "execution_count": null,
      "outputs": []
    },
    {
      "cell_type": "code",
      "metadata": {
        "colab": {
          "base_uri": "https://localhost:8080/"
        },
        "id": "dvuwFF_v8Fds",
        "outputId": "1c0aef3a-d584-4f38-c2df-43e75a46b4a9"
      },
      "source": [
        "!cd build && ./fast_align -i ../../correct_format.txt -d -o -v > forward.align\n",
        "!cd build && ./fast_align -i ../../correct_format.txt -d -o -v -r > reverse.align"
      ],
      "execution_count": null,
      "outputs": [
        {
          "output_type": "stream",
          "text": [
            "ARG=i\n",
            "ARG=d\n",
            "ARG=o\n",
            "ARG=v\n",
            "INITIAL PASS \n",
            ".....\n",
            "expected target length = source length * 0.805577\n",
            "ITERATION 1\n",
            ".....\n",
            "  log_e likelihood: -674563\n",
            "  log_2 likelihood: -973189\n",
            "     cross entropy: 29.8974\n",
            "        perplexity: 1e+09\n",
            "      posterior p0: 0.08\n",
            " posterior al-feat: -0.210928\n",
            "       size counts: 126\n",
            "ITERATION 2\n",
            ".....\n",
            "  log_e likelihood: -148904\n",
            "  log_2 likelihood: -214823\n",
            "     cross entropy: 6.5996\n",
            "        perplexity: 96.9788\n",
            "      posterior p0: 0.0284804\n",
            " posterior al-feat: -0.224203\n",
            "       size counts: 126\n",
            "  1  model al-feat: -0.219407 (tension=4)\n",
            "  2  model al-feat: -0.222535 (tension=3.90408)\n",
            "  3  model al-feat: -0.223639 (tension=3.87072)\n",
            "  4  model al-feat: -0.224014 (tension=3.85943)\n",
            "  5  model al-feat: -0.22414 (tension=3.85565)\n",
            "  6  model al-feat: -0.224182 (tension=3.85439)\n",
            "  7  model al-feat: -0.224196 (tension=3.85397)\n",
            "  8  model al-feat: -0.224201 (tension=3.85383)\n",
            "     final tension: 3.85378\n",
            "ITERATION 3\n",
            ".....\n",
            "  log_e likelihood: -116354\n",
            "  log_2 likelihood: -167863\n",
            "     cross entropy: 5.15692\n",
            "        perplexity: 35.677\n",
            "      posterior p0: 0.0259669\n",
            " posterior al-feat: -0.250875\n",
            "       size counts: 126\n",
            "  1  model al-feat: -0.224202 (tension=3.85378)\n",
            "  2  model al-feat: -0.243062 (tension=3.32033)\n",
            "  3  model al-feat: -0.24901 (tension=3.16407)\n",
            "  4  model al-feat: -0.250459 (tension=3.12678)\n",
            "  5  model al-feat: -0.250784 (tension=3.11847)\n",
            "  6  model al-feat: -0.250855 (tension=3.11665)\n",
            "  7  model al-feat: -0.25087 (tension=3.11625)\n",
            "  8  model al-feat: -0.250874 (tension=3.11616)\n",
            "     final tension: 3.11615\n",
            "ITERATION 4\n",
            ".....\n",
            "  log_e likelihood: -109497\n",
            "  log_2 likelihood: -157971\n",
            "     cross entropy: 4.85303\n",
            "        perplexity: 28.9006\n",
            "      posterior p0: 0.0275697\n",
            " posterior al-feat: -0.273184\n",
            "       size counts: 126\n",
            "  1  model al-feat: -0.250875 (tension=3.11615)\n",
            "  2  model al-feat: -0.269156 (tension=2.66996)\n",
            "  3  model al-feat: -0.272639 (tension=2.58941)\n",
            "  4  model al-feat: -0.273114 (tension=2.5785)\n",
            "  5  model al-feat: -0.273175 (tension=2.57711)\n",
            "  6  model al-feat: -0.273183 (tension=2.57694)\n",
            "  7  model al-feat: -0.273184 (tension=2.57692)\n",
            "  8  model al-feat: -0.273184 (tension=2.57691)\n",
            "     final tension: 2.57691\n",
            "ITERATION 5 (FINAL)\n",
            ".....\n",
            "  log_e likelihood: -106562\n",
            "  log_2 likelihood: -153737\n",
            "     cross entropy: 4.72295\n",
            "        perplexity: 26.4089\n",
            "      posterior p0: 0\n",
            " posterior al-feat: 0\n",
            "       size counts: 126\n",
            "ARG=i\n",
            "ARG=d\n",
            "ARG=o\n",
            "ARG=v\n",
            "ARG=r\n",
            "INITIAL PASS \n",
            ".....\n",
            "expected target length = source length * 1.31336\n",
            "ITERATION 1\n",
            ".....\n",
            "  log_e likelihood: -860223\n",
            "  log_2 likelihood: -1.24104e+06\n",
            "     cross entropy: 29.8974\n",
            "        perplexity: 1e+09\n",
            "      posterior p0: 0.08\n",
            " posterior al-feat: -0.200574\n",
            "       size counts: 126\n",
            "ITERATION 2\n",
            ".....\n",
            "  log_e likelihood: -172216\n",
            "  log_2 likelihood: -248456\n",
            "     cross entropy: 5.98544\n",
            "        perplexity: 63.3573\n",
            "      posterior p0: 0.0337861\n",
            " posterior al-feat: -0.204327\n",
            "       size counts: 126\n",
            "  1  model al-feat: -0.127447 (tension=4)\n",
            "  2  model al-feat: -0.159327 (tension=2.46242)\n",
            "  3  model al-feat: -0.180472 (tension=1.56243)\n",
            "  4  model al-feat: -0.19147 (tension=1.08533)\n",
            "  5  model al-feat: -0.19691 (tension=0.828199)\n",
            "  6  model al-feat: -0.199732 (tension=0.679868)\n",
            "  7  model al-feat: -0.201305 (tension=0.587971)\n",
            "  8  model al-feat: -0.202244 (tension=0.527534)\n",
            "     final tension: 0.485882\n",
            "ITERATION 3\n",
            ".....\n",
            "  log_e likelihood: -145008\n",
            "  log_2 likelihood: -209202\n",
            "     cross entropy: 5.03981\n",
            "        perplexity: 32.8953\n",
            "      posterior p0: 0.0374131\n",
            " posterior al-feat: -0.276723\n",
            "       size counts: 126\n",
            "  1  model al-feat: -0.202839 (tension=0.485882)\n",
            "  2  model al-feat: -0.204725 (tension=0.1)\n",
            "  3  model al-feat: -0.204725 (tension=0.1)\n",
            "  4  model al-feat: -0.204725 (tension=0.1)\n",
            "  5  model al-feat: -0.204725 (tension=0.1)\n",
            "  6  model al-feat: -0.204725 (tension=0.1)\n",
            "  7  model al-feat: -0.204725 (tension=0.1)\n",
            "  8  model al-feat: -0.204725 (tension=0.1)\n",
            "     final tension: 0.1\n",
            "ITERATION 4\n",
            ".....\n",
            "  log_e likelihood: -132806\n",
            "  log_2 likelihood: -191598\n",
            "     cross entropy: 4.61572\n",
            "        perplexity: 24.5171\n",
            "      posterior p0: 0.041041\n",
            " posterior al-feat: -0.317012\n",
            "       size counts: 126\n",
            "  1  model al-feat: -0.204725 (tension=0.1)\n",
            "  2  model al-feat: -0.204725 (tension=0.1)\n",
            "  3  model al-feat: -0.204725 (tension=0.1)\n",
            "  4  model al-feat: -0.204725 (tension=0.1)\n",
            "  5  model al-feat: -0.204725 (tension=0.1)\n",
            "  6  model al-feat: -0.204725 (tension=0.1)\n",
            "  7  model al-feat: -0.204725 (tension=0.1)\n",
            "  8  model al-feat: -0.204725 (tension=0.1)\n",
            "     final tension: 0.1\n",
            "ITERATION 5 (FINAL)\n",
            ".....\n",
            "  log_e likelihood: -127067\n",
            "  log_2 likelihood: -183319\n",
            "     cross entropy: 4.41626\n",
            "        perplexity: 21.3514\n",
            "      posterior p0: 0\n",
            " posterior al-feat: 0\n",
            "       size counts: 126\n"
          ],
          "name": "stdout"
        }
      ]
    },
    {
      "cell_type": "code",
      "metadata": {
        "id": "A8g3ezkO8a1g"
      },
      "source": [
        "!cd build && ./atools -i forward.align -j reverse.align -c grow-diag-final-and > aligned.txt"
      ],
      "execution_count": null,
      "outputs": []
    },
    {
      "cell_type": "code",
      "metadata": {
        "colab": {
          "base_uri": "https://localhost:8080/"
        },
        "id": "r23oM-kc9eGv",
        "outputId": "107992c0-a664-47a9-a6a1-82ffb7fe6369"
      },
      "source": [
        ""
      ],
      "execution_count": null,
      "outputs": [
        {
          "output_type": "stream",
          "text": [
            "166871 forward.align\n"
          ],
          "name": "stdout"
        }
      ]
    },
    {
      "cell_type": "code",
      "metadata": {
        "id": "jKuzkEGB-AoD"
      },
      "source": [
        "!cd build && ./atools -i forward.align -j reverse.align -c grow-diag-final-and > aligned.txt\n"
      ],
      "execution_count": null,
      "outputs": []
    },
    {
      "cell_type": "code",
      "metadata": {
        "colab": {
          "base_uri": "https://localhost:8080/"
        },
        "id": "a969wESiCml1",
        "outputId": "46e38e7e-84f7-4951-bd2b-24d7c220c42d"
      },
      "source": [
        "!cd build && head -n10 aligned.txt"
      ],
      "execution_count": null,
      "outputs": [
        {
          "output_type": "stream",
          "text": [
            "0-5 1-5 2-3 3-3 4-4 6-0 7-1 7-2 8-2\n",
            "0-0 3-3 4-4 6-0 7-1 7-2 7-5 8-6\n",
            "0-0 2-1 2-2 2-3 3-4 4-3 5-4 6-4 6-5 7-6\n",
            "0-5 5-3 6-4 8-0 9-1 9-2 10-2\n",
            "0-0 1-3 2-1 3-2 4-5 5-4 5-6 6-7 8-6 9-7\n",
            "0-0 1-6 3-3 4-4 5-5 7-0 8-1 8-2 9-7\n",
            "0-5 2-3 3-3 4-4 6-0 7-2 8-6\n",
            "0-0 1-6 2-2 3-1 4-3 5-7 6-4 7-5\n",
            "0-0 3-1 3-2 4-1 4-3 5-2 6-4 7-7 8-5 9-6\n",
            "1-0 1-1 2-2 3-4 4-3 5-5 6-6 8-7\n"
          ],
          "name": "stdout"
        }
      ]
    },
    {
      "cell_type": "code",
      "metadata": {
        "id": "eE_TbB5CCxVD",
        "colab": {
          "base_uri": "https://localhost:8080/"
        },
        "outputId": "12f7bca9-42ad-442d-a3d3-16e59f070701"
      },
      "source": [
        "!cd build && head -n10 ../../correct_format.txt"
      ],
      "execution_count": null,
      "outputs": [
        {
          "output_type": "stream",
          "text": [
            "MMA vice president Qazi Hussain Ahmad declared last month: 'We are not extremists. ||| MMA கட்சியின் துணைத்தலைவர் க்வாஸி ஹுசேன் அகமத் சென்ற மாதம் பின்வருமாறு அறிவித்தார்: ``நாங்கள் தீவிரவாதிகள் அல்ல.\n",
            "Information has surfaced in recent years suggesting that Julius Rosenberg was involved in passing some form of intelligence to Soviet officials during the Second World War. ||| சமீபகாலத்தில் சில தகவல்கள் யூலியஸ் ரோசன்பேர்க் ஒரு வித உளவுச்செய்தியை சோவியத் அதிகாரிகளுக்கு இரண்டாம் உலகப்போரின்போது அனுப்பியதில் சம்பந்தப்பட்டு இருந்ததாக வெளிவந்துள்ளன.\n",
            "And Azor begat Sadoc; and Sadoc begat Achim; and Achim begat Eliud; ||| ஆசோர் சாதோக்கைப் பெற்றான்; சாதோக்கு ஆகீமைப் பெற்றான்; ஆகீம் எலியூதைப் பெற்றான்;\n",
            "She says she knows what is going on, but can do nothing about it. ||| என்ன நடக்கிறது என்பது தமக்கு தெரியும் என்றும் ஆனால், தம்மால் எதுவும் செய்யமுடியாது என்றும் கடிதம் எழுதியிருந்தார்.\n",
            "And be it indeed that I have erred, my error remains with myself. ||| நான் தப்பிநடந்தது மெய்யானாலும், என் தப்பிதம் என்னோடேதான் இருக்கிறது\n",
            "Finally, the columnist fails to tell us who among the political leaders of the bourgeoisie, past and present, he counts among the paragons of morality. ||| டால்ரிம்பிளினுடைய அறிவுஜீவித் தொடுவானத்திற்கு அப்பால் எவ்வளவோ தொலைவில் இருந்தன\n",
            "These include the British Tamil Forum, La Maison du Tamil Eelam (France), the Canadian Tamil Congress, and the Swiss Tamil Forum. ||| இந்த அமைப்புக்களில் British Tamil Forum, La Maison du Tamil Eelam (France), the Canadian Tamil Congress, Swiss Tamil Forum<span lang=\"DE\"> ஆகியவை அடங்கும்.\n",
            "Vijay accompanied with his wife and daughter enjoyed the film 'Anjathey'. ||| தனது மனைவி, மகளுடன் 'அஞ்சாதே' படத்தை ரசித்தார் விஜய்.\n",
            "Both Musharraf and Vajpayee have exploited the current war drive to divert public attention from their record at home and to shore up their fragile administrations. ||| முஷாரப் மற்றும் வாஜ்பாயி இருவருமே அவர்களது நாடுகளில் அவர்களின் ஆட்சிக்கு எதிரான மக்களின் கவனத்தைத் திசைதிருப்பவும் அவர்களது ஆட்டம் கண்டுள்ள நிர்வாகங்களை தக்கவைக்கவும் தற்போதைய போருக்கான உந்தலைப் பயன்படுத்துகின்றனர்.\n",
            "But what happened? ||| ஆனால் என்ன ஆனது?\n"
          ],
          "name": "stdout"
        }
      ]
    },
    {
      "cell_type": "code",
      "metadata": {
        "id": "SIMxyq7mC0YP"
      },
      "source": [
        ""
      ],
      "execution_count": null,
      "outputs": []
    }
  ]
}